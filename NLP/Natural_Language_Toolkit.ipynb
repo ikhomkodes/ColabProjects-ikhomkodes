{
  "nbformat": 4,
  "nbformat_minor": 0,
  "metadata": {
    "colab": {
      "name": "Natural Language Toolkit.ipynb",
      "provenance": [],
      "collapsed_sections": [],
      "authorship_tag": "ABX9TyMTwG9x6q+xS44tTbmQH4Ou",
      "include_colab_link": true
    },
    "kernelspec": {
      "name": "python3",
      "display_name": "Python 3"
    },
    "language_info": {
      "name": "python"
    },
    "accelerator": "GPU"
  },
  "cells": [
    {
      "cell_type": "markdown",
      "metadata": {
        "id": "view-in-github",
        "colab_type": "text"
      },
      "source": [
        "<a href=\"https://colab.research.google.com/github/ikhomkodes/ColabProjects-ikhomkodes/blob/main/Natural_Language_Toolkit.ipynb\" target=\"_parent\"><img src=\"https://colab.research.google.com/assets/colab-badge.svg\" alt=\"Open In Colab\"/></a>"
      ]
    },
    {
      "cell_type": "markdown",
      "metadata": {
        "id": "vFovv8iatV4q"
      },
      "source": [
        "# Natural Language Toolkit\n",
        "### Author: Thapa Magar, Khom Raj (12th June, 2021)\n",
        "\n",
        "NLTK is a leading platform for building Python programs to work with human language data. It provides easy-to-use interfaces to [over 50 corpora and lexical resources](http://www.nltk.org/nltk_data/) such as WOrdNet, along with a suite of text processing libraries for classification, tokenization, stemming, tagging, parsing, and semantic reasoning, wrappers for individual-strength NLP libraries, and an active [discussion forum](https://groups.google.com/g/nltk-users).\n",
        "\n",
        "\n",
        "NLTK has been called \"a wonderful tool for teaching, and working in, computational linguistics using Python\", and \"an amazing library to play with natural language.\"[[1]](https://www.nltk.org/)\n",
        "\n",
        "[Natural Language Processing with Python](http://www.nltk.org/book/) provides a practical introduction to programming for language processing. Written by the creators of NLTK, it guides the reader through the fundamentals of writing Python programs, working with corpora, categorizing text, analyzing linguistic structure, and more. The online version of the book has been updated for Python3 and NLTK 3. "
      ]
    },
    {
      "cell_type": "markdown",
      "metadata": {
        "id": "fkTBON7L4buM"
      },
      "source": [
        "Tokenize and Tag some text:"
      ]
    },
    {
      "cell_type": "code",
      "metadata": {
        "id": "7L_dhfGXxoRj"
      },
      "source": [
        "# Some simple things you can do with NLTK\n",
        "\n",
        "import nltk\n"
      ],
      "execution_count": null,
      "outputs": []
    },
    {
      "cell_type": "code",
      "metadata": {
        "id": "f8mBh6KXz10E"
      },
      "source": [
        "sentence = \"\"\"At 7 o'clock on Friday morning Khom didn't feel very well.\"\"\""
      ],
      "execution_count": null,
      "outputs": []
    },
    {
      "cell_type": "code",
      "metadata": {
        "colab": {
          "base_uri": "https://localhost:8080/"
        },
        "id": "9ZLeC6cg3lWb",
        "outputId": "f81e1d41-afc4-457d-84f4-d775eb0616f9"
      },
      "source": [
        "import nltk\n",
        "nltk.download('punkt')\n",
        "tokens = nltk.word_tokenize(sentence)\n",
        "# tokens"
      ],
      "execution_count": null,
      "outputs": [
        {
          "output_type": "stream",
          "text": [
            "[nltk_data] Downloading package punkt to /root/nltk_data...\n",
            "[nltk_data]   Unzipping tokenizers/punkt.zip.\n"
          ],
          "name": "stdout"
        }
      ]
    },
    {
      "cell_type": "code",
      "metadata": {
        "colab": {
          "base_uri": "https://localhost:8080/"
        },
        "id": "UKdaw5Cv4LJ_",
        "outputId": "1d02c26a-7000-422f-d9a1-98ed84dc40b1"
      },
      "source": [
        "tokens"
      ],
      "execution_count": null,
      "outputs": [
        {
          "output_type": "execute_result",
          "data": {
            "text/plain": [
              "['At',\n",
              " '7',\n",
              " \"o'clock\",\n",
              " 'on',\n",
              " 'Friday',\n",
              " 'morning',\n",
              " 'Khom',\n",
              " 'did',\n",
              " \"n't\",\n",
              " 'feel',\n",
              " 'very',\n",
              " 'well',\n",
              " '.']"
            ]
          },
          "metadata": {
            "tags": []
          },
          "execution_count": 14
        }
      ]
    },
    {
      "cell_type": "code",
      "metadata": {
        "colab": {
          "base_uri": "https://localhost:8080/"
        },
        "id": "UXj5BwWk5Wjr",
        "outputId": "19379da3-7852-4abc-d85e-a79b2123bbc7"
      },
      "source": [
        "import nltk\n",
        "nltk.download('averaged_perceptron_tagger')\n",
        "\n",
        "tagged = nltk.pos_tag(tokens)"
      ],
      "execution_count": null,
      "outputs": [
        {
          "output_type": "stream",
          "text": [
            "[nltk_data] Downloading package averaged_perceptron_tagger to\n",
            "[nltk_data]     /root/nltk_data...\n",
            "[nltk_data]   Unzipping taggers/averaged_perceptron_tagger.zip.\n"
          ],
          "name": "stdout"
        }
      ]
    },
    {
      "cell_type": "code",
      "metadata": {
        "colab": {
          "base_uri": "https://localhost:8080/"
        },
        "id": "Npy2PvPl55rQ",
        "outputId": "50afdfe1-384c-484d-b104-3b984a1ac9c5"
      },
      "source": [
        "tagged[0:6]"
      ],
      "execution_count": null,
      "outputs": [
        {
          "output_type": "execute_result",
          "data": {
            "text/plain": [
              "[('At', 'IN'),\n",
              " ('7', 'CD'),\n",
              " (\"o'clock\", 'NN'),\n",
              " ('on', 'IN'),\n",
              " ('Friday', 'NNP'),\n",
              " ('morning', 'NN')]"
            ]
          },
          "metadata": {
            "tags": []
          },
          "execution_count": 17
        }
      ]
    },
    {
      "cell_type": "markdown",
      "metadata": {
        "id": "044zvoxU5MFG"
      },
      "source": [
        "Identity named entities:"
      ]
    },
    {
      "cell_type": "code",
      "metadata": {
        "colab": {
          "base_uri": "https://localhost:8080/"
        },
        "id": "Jl_6HCsZ5SN3",
        "outputId": "670e768d-26ee-4a61-fe25-a1124937b05c"
      },
      "source": [
        "import nltk\n",
        "nltk.download('maxent_ne_chunker')\n",
        "nltk.download('words')\n",
        "\n",
        "entities = nltk.chunk.ne_chunk(tagged)"
      ],
      "execution_count": null,
      "outputs": [
        {
          "output_type": "stream",
          "text": [
            "[nltk_data] Downloading package maxent_ne_chunker to\n",
            "[nltk_data]     /root/nltk_data...\n",
            "[nltk_data]   Package maxent_ne_chunker is already up-to-date!\n",
            "[nltk_data] Downloading package words to /root/nltk_data...\n",
            "[nltk_data]   Package words is already up-to-date!\n"
          ],
          "name": "stdout"
        }
      ]
    },
    {
      "cell_type": "code",
      "metadata": {
        "colab": {
          "base_uri": "https://localhost:8080/",
          "height": 462
        },
        "id": "TFFlmBie6bfL",
        "outputId": "a560686f-85c1-48a9-b46d-f061b7797154"
      },
      "source": [
        "entities"
      ],
      "execution_count": null,
      "outputs": [
        {
          "output_type": "error",
          "ename": "TclError",
          "evalue": "ignored",
          "traceback": [
            "\u001b[0;31m---------------------------------------------------------------------------\u001b[0m",
            "\u001b[0;31mTclError\u001b[0m                                  Traceback (most recent call last)",
            "\u001b[0;32m/usr/local/lib/python3.7/dist-packages/IPython/core/formatters.py\u001b[0m in \u001b[0;36m__call__\u001b[0;34m(self, obj)\u001b[0m\n\u001b[1;32m    336\u001b[0m             \u001b[0mmethod\u001b[0m \u001b[0;34m=\u001b[0m \u001b[0mget_real_method\u001b[0m\u001b[0;34m(\u001b[0m\u001b[0mobj\u001b[0m\u001b[0;34m,\u001b[0m \u001b[0mself\u001b[0m\u001b[0;34m.\u001b[0m\u001b[0mprint_method\u001b[0m\u001b[0;34m)\u001b[0m\u001b[0;34m\u001b[0m\u001b[0;34m\u001b[0m\u001b[0m\n\u001b[1;32m    337\u001b[0m             \u001b[0;32mif\u001b[0m \u001b[0mmethod\u001b[0m \u001b[0;32mis\u001b[0m \u001b[0;32mnot\u001b[0m \u001b[0;32mNone\u001b[0m\u001b[0;34m:\u001b[0m\u001b[0;34m\u001b[0m\u001b[0;34m\u001b[0m\u001b[0m\n\u001b[0;32m--> 338\u001b[0;31m                 \u001b[0;32mreturn\u001b[0m \u001b[0mmethod\u001b[0m\u001b[0;34m(\u001b[0m\u001b[0;34m)\u001b[0m\u001b[0;34m\u001b[0m\u001b[0;34m\u001b[0m\u001b[0m\n\u001b[0m\u001b[1;32m    339\u001b[0m             \u001b[0;32mreturn\u001b[0m \u001b[0;32mNone\u001b[0m\u001b[0;34m\u001b[0m\u001b[0;34m\u001b[0m\u001b[0m\n\u001b[1;32m    340\u001b[0m         \u001b[0;32melse\u001b[0m\u001b[0;34m:\u001b[0m\u001b[0;34m\u001b[0m\u001b[0;34m\u001b[0m\u001b[0m\n",
            "\u001b[0;32m/usr/local/lib/python3.7/dist-packages/nltk/tree.py\u001b[0m in \u001b[0;36m_repr_png_\u001b[0;34m(self)\u001b[0m\n\u001b[1;32m    717\u001b[0m         \u001b[0;32mfrom\u001b[0m \u001b[0mnltk\u001b[0m\u001b[0;34m.\u001b[0m\u001b[0mdraw\u001b[0m\u001b[0;34m.\u001b[0m\u001b[0mutil\u001b[0m \u001b[0;32mimport\u001b[0m \u001b[0mCanvasFrame\u001b[0m\u001b[0;34m\u001b[0m\u001b[0;34m\u001b[0m\u001b[0m\n\u001b[1;32m    718\u001b[0m         \u001b[0;32mfrom\u001b[0m \u001b[0mnltk\u001b[0m\u001b[0;34m.\u001b[0m\u001b[0minternals\u001b[0m \u001b[0;32mimport\u001b[0m \u001b[0mfind_binary\u001b[0m\u001b[0;34m\u001b[0m\u001b[0;34m\u001b[0m\u001b[0m\n\u001b[0;32m--> 719\u001b[0;31m         \u001b[0m_canvas_frame\u001b[0m \u001b[0;34m=\u001b[0m \u001b[0mCanvasFrame\u001b[0m\u001b[0;34m(\u001b[0m\u001b[0;34m)\u001b[0m\u001b[0;34m\u001b[0m\u001b[0;34m\u001b[0m\u001b[0m\n\u001b[0m\u001b[1;32m    720\u001b[0m         \u001b[0mwidget\u001b[0m \u001b[0;34m=\u001b[0m \u001b[0mtree_to_treesegment\u001b[0m\u001b[0;34m(\u001b[0m\u001b[0m_canvas_frame\u001b[0m\u001b[0;34m.\u001b[0m\u001b[0mcanvas\u001b[0m\u001b[0;34m(\u001b[0m\u001b[0;34m)\u001b[0m\u001b[0;34m,\u001b[0m \u001b[0mself\u001b[0m\u001b[0;34m)\u001b[0m\u001b[0;34m\u001b[0m\u001b[0;34m\u001b[0m\u001b[0m\n\u001b[1;32m    721\u001b[0m         \u001b[0m_canvas_frame\u001b[0m\u001b[0;34m.\u001b[0m\u001b[0madd_widget\u001b[0m\u001b[0;34m(\u001b[0m\u001b[0mwidget\u001b[0m\u001b[0;34m)\u001b[0m\u001b[0;34m\u001b[0m\u001b[0;34m\u001b[0m\u001b[0m\n",
            "\u001b[0;32m/usr/local/lib/python3.7/dist-packages/nltk/draw/util.py\u001b[0m in \u001b[0;36m__init__\u001b[0;34m(self, parent, **kw)\u001b[0m\n\u001b[1;32m   1651\u001b[0m         \u001b[0;31m# If no parent was given, set up a top-level window.\u001b[0m\u001b[0;34m\u001b[0m\u001b[0;34m\u001b[0m\u001b[0;34m\u001b[0m\u001b[0m\n\u001b[1;32m   1652\u001b[0m         \u001b[0;32mif\u001b[0m \u001b[0mparent\u001b[0m \u001b[0;32mis\u001b[0m \u001b[0;32mNone\u001b[0m\u001b[0;34m:\u001b[0m\u001b[0;34m\u001b[0m\u001b[0;34m\u001b[0m\u001b[0m\n\u001b[0;32m-> 1653\u001b[0;31m             \u001b[0mself\u001b[0m\u001b[0;34m.\u001b[0m\u001b[0m_parent\u001b[0m \u001b[0;34m=\u001b[0m \u001b[0mTk\u001b[0m\u001b[0;34m(\u001b[0m\u001b[0;34m)\u001b[0m\u001b[0;34m\u001b[0m\u001b[0;34m\u001b[0m\u001b[0m\n\u001b[0m\u001b[1;32m   1654\u001b[0m             \u001b[0mself\u001b[0m\u001b[0;34m.\u001b[0m\u001b[0m_parent\u001b[0m\u001b[0;34m.\u001b[0m\u001b[0mtitle\u001b[0m\u001b[0;34m(\u001b[0m\u001b[0;34m'NLTK'\u001b[0m\u001b[0;34m)\u001b[0m\u001b[0;34m\u001b[0m\u001b[0;34m\u001b[0m\u001b[0m\n\u001b[1;32m   1655\u001b[0m             \u001b[0mself\u001b[0m\u001b[0;34m.\u001b[0m\u001b[0m_parent\u001b[0m\u001b[0;34m.\u001b[0m\u001b[0mbind\u001b[0m\u001b[0;34m(\u001b[0m\u001b[0;34m'<Control-p>'\u001b[0m\u001b[0;34m,\u001b[0m \u001b[0;32mlambda\u001b[0m \u001b[0me\u001b[0m\u001b[0;34m:\u001b[0m \u001b[0mself\u001b[0m\u001b[0;34m.\u001b[0m\u001b[0mprint_to_file\u001b[0m\u001b[0;34m(\u001b[0m\u001b[0;34m)\u001b[0m\u001b[0;34m)\u001b[0m\u001b[0;34m\u001b[0m\u001b[0;34m\u001b[0m\u001b[0m\n",
            "\u001b[0;32m/usr/lib/python3.7/tkinter/__init__.py\u001b[0m in \u001b[0;36m__init__\u001b[0;34m(self, screenName, baseName, className, useTk, sync, use)\u001b[0m\n\u001b[1;32m   2021\u001b[0m                 \u001b[0mbaseName\u001b[0m \u001b[0;34m=\u001b[0m \u001b[0mbaseName\u001b[0m \u001b[0;34m+\u001b[0m \u001b[0mext\u001b[0m\u001b[0;34m\u001b[0m\u001b[0;34m\u001b[0m\u001b[0m\n\u001b[1;32m   2022\u001b[0m         \u001b[0minteractive\u001b[0m \u001b[0;34m=\u001b[0m \u001b[0;36m0\u001b[0m\u001b[0;34m\u001b[0m\u001b[0;34m\u001b[0m\u001b[0m\n\u001b[0;32m-> 2023\u001b[0;31m         \u001b[0mself\u001b[0m\u001b[0;34m.\u001b[0m\u001b[0mtk\u001b[0m \u001b[0;34m=\u001b[0m \u001b[0m_tkinter\u001b[0m\u001b[0;34m.\u001b[0m\u001b[0mcreate\u001b[0m\u001b[0;34m(\u001b[0m\u001b[0mscreenName\u001b[0m\u001b[0;34m,\u001b[0m \u001b[0mbaseName\u001b[0m\u001b[0;34m,\u001b[0m \u001b[0mclassName\u001b[0m\u001b[0;34m,\u001b[0m \u001b[0minteractive\u001b[0m\u001b[0;34m,\u001b[0m \u001b[0mwantobjects\u001b[0m\u001b[0;34m,\u001b[0m \u001b[0museTk\u001b[0m\u001b[0;34m,\u001b[0m \u001b[0msync\u001b[0m\u001b[0;34m,\u001b[0m \u001b[0muse\u001b[0m\u001b[0;34m)\u001b[0m\u001b[0;34m\u001b[0m\u001b[0;34m\u001b[0m\u001b[0m\n\u001b[0m\u001b[1;32m   2024\u001b[0m         \u001b[0;32mif\u001b[0m \u001b[0museTk\u001b[0m\u001b[0;34m:\u001b[0m\u001b[0;34m\u001b[0m\u001b[0;34m\u001b[0m\u001b[0m\n\u001b[1;32m   2025\u001b[0m             \u001b[0mself\u001b[0m\u001b[0;34m.\u001b[0m\u001b[0m_loadtk\u001b[0m\u001b[0;34m(\u001b[0m\u001b[0;34m)\u001b[0m\u001b[0;34m\u001b[0m\u001b[0;34m\u001b[0m\u001b[0m\n",
            "\u001b[0;31mTclError\u001b[0m: no display name and no $DISPLAY environment variable"
          ]
        },
        {
          "output_type": "execute_result",
          "data": {
            "text/plain": [
              "Tree('S', [('At', 'IN'), ('7', 'CD'), (\"o'clock\", 'NN'), ('on', 'IN'), ('Friday', 'NNP'), ('morning', 'NN'), Tree('PERSON', [('Khom', 'NNP')]), ('did', 'VBD'), (\"n't\", 'RB'), ('feel', 'VB'), ('very', 'RB'), ('well', 'RB'), ('.', '.')])"
            ]
          },
          "metadata": {
            "tags": []
          },
          "execution_count": 26
        }
      ]
    },
    {
      "cell_type": "markdown",
      "metadata": {
        "id": "X2x1BfA_65qW"
      },
      "source": [
        "Display a parse tree:"
      ]
    },
    {
      "cell_type": "code",
      "metadata": {
        "colab": {
          "base_uri": "https://localhost:8080/",
          "height": 374
        },
        "id": "BroYlyZ3681c",
        "outputId": "e678ed00-9c73-4fac-c601-5a1ecdc5c470"
      },
      "source": [
        "# Displaying a parse tree:\n",
        "import nltk\n",
        "nltk.download('treebank')\n",
        "\n",
        "from nltk.corpus import treebank\n",
        "\n",
        "t = treebank.parsed_sents('wsj_0001.mrg')[0]\n",
        "t.draw()"
      ],
      "execution_count": 1,
      "outputs": [
        {
          "output_type": "stream",
          "text": [
            "[nltk_data] Downloading package treebank to /root/nltk_data...\n",
            "[nltk_data]   Unzipping corpora/treebank.zip.\n"
          ],
          "name": "stdout"
        },
        {
          "output_type": "error",
          "ename": "TclError",
          "evalue": "ignored",
          "traceback": [
            "\u001b[0;31m---------------------------------------------------------------------------\u001b[0m",
            "\u001b[0;31mTclError\u001b[0m                                  Traceback (most recent call last)",
            "\u001b[0;32m<ipython-input-1-8cc2bf18a713>\u001b[0m in \u001b[0;36m<module>\u001b[0;34m()\u001b[0m\n\u001b[1;32m      6\u001b[0m \u001b[0;34m\u001b[0m\u001b[0m\n\u001b[1;32m      7\u001b[0m \u001b[0mt\u001b[0m \u001b[0;34m=\u001b[0m \u001b[0mtreebank\u001b[0m\u001b[0;34m.\u001b[0m\u001b[0mparsed_sents\u001b[0m\u001b[0;34m(\u001b[0m\u001b[0;34m'wsj_0001.mrg'\u001b[0m\u001b[0;34m)\u001b[0m\u001b[0;34m[\u001b[0m\u001b[0;36m0\u001b[0m\u001b[0;34m]\u001b[0m\u001b[0;34m\u001b[0m\u001b[0;34m\u001b[0m\u001b[0m\n\u001b[0;32m----> 8\u001b[0;31m \u001b[0mt\u001b[0m\u001b[0;34m.\u001b[0m\u001b[0mdraw\u001b[0m\u001b[0;34m(\u001b[0m\u001b[0;34m)\u001b[0m\u001b[0;34m\u001b[0m\u001b[0;34m\u001b[0m\u001b[0m\n\u001b[0m",
            "\u001b[0;32m/usr/local/lib/python3.7/dist-packages/nltk/tree.py\u001b[0m in \u001b[0;36mdraw\u001b[0;34m(self)\u001b[0m\n\u001b[1;32m    688\u001b[0m         \"\"\"\n\u001b[1;32m    689\u001b[0m         \u001b[0;32mfrom\u001b[0m \u001b[0mnltk\u001b[0m\u001b[0;34m.\u001b[0m\u001b[0mdraw\u001b[0m\u001b[0;34m.\u001b[0m\u001b[0mtree\u001b[0m \u001b[0;32mimport\u001b[0m \u001b[0mdraw_trees\u001b[0m\u001b[0;34m\u001b[0m\u001b[0;34m\u001b[0m\u001b[0m\n\u001b[0;32m--> 690\u001b[0;31m         \u001b[0mdraw_trees\u001b[0m\u001b[0;34m(\u001b[0m\u001b[0mself\u001b[0m\u001b[0;34m)\u001b[0m\u001b[0;34m\u001b[0m\u001b[0;34m\u001b[0m\u001b[0m\n\u001b[0m\u001b[1;32m    691\u001b[0m \u001b[0;34m\u001b[0m\u001b[0m\n\u001b[1;32m    692\u001b[0m     \u001b[0;32mdef\u001b[0m \u001b[0mpretty_print\u001b[0m\u001b[0;34m(\u001b[0m\u001b[0mself\u001b[0m\u001b[0;34m,\u001b[0m \u001b[0msentence\u001b[0m\u001b[0;34m=\u001b[0m\u001b[0;32mNone\u001b[0m\u001b[0;34m,\u001b[0m \u001b[0mhighlight\u001b[0m\u001b[0;34m=\u001b[0m\u001b[0;34m(\u001b[0m\u001b[0;34m)\u001b[0m\u001b[0;34m,\u001b[0m \u001b[0mstream\u001b[0m\u001b[0;34m=\u001b[0m\u001b[0;32mNone\u001b[0m\u001b[0;34m,\u001b[0m \u001b[0;34m**\u001b[0m\u001b[0mkwargs\u001b[0m\u001b[0;34m)\u001b[0m\u001b[0;34m:\u001b[0m\u001b[0;34m\u001b[0m\u001b[0;34m\u001b[0m\u001b[0m\n",
            "\u001b[0;32m/usr/local/lib/python3.7/dist-packages/nltk/draw/tree.py\u001b[0m in \u001b[0;36mdraw_trees\u001b[0;34m(*trees)\u001b[0m\n\u001b[1;32m    861\u001b[0m     \u001b[0;34m:\u001b[0m\u001b[0mrtype\u001b[0m\u001b[0;34m:\u001b[0m \u001b[0;32mNone\u001b[0m\u001b[0;34m\u001b[0m\u001b[0;34m\u001b[0m\u001b[0m\n\u001b[1;32m    862\u001b[0m     \"\"\"\n\u001b[0;32m--> 863\u001b[0;31m     \u001b[0mTreeView\u001b[0m\u001b[0;34m(\u001b[0m\u001b[0;34m*\u001b[0m\u001b[0mtrees\u001b[0m\u001b[0;34m)\u001b[0m\u001b[0;34m.\u001b[0m\u001b[0mmainloop\u001b[0m\u001b[0;34m(\u001b[0m\u001b[0;34m)\u001b[0m\u001b[0;34m\u001b[0m\u001b[0;34m\u001b[0m\u001b[0m\n\u001b[0m\u001b[1;32m    864\u001b[0m     \u001b[0;32mreturn\u001b[0m\u001b[0;34m\u001b[0m\u001b[0;34m\u001b[0m\u001b[0m\n\u001b[1;32m    865\u001b[0m \u001b[0;34m\u001b[0m\u001b[0m\n",
            "\u001b[0;32m/usr/local/lib/python3.7/dist-packages/nltk/draw/tree.py\u001b[0m in \u001b[0;36m__init__\u001b[0;34m(self, *trees)\u001b[0m\n\u001b[1;32m    754\u001b[0m         \u001b[0mself\u001b[0m\u001b[0;34m.\u001b[0m\u001b[0m_trees\u001b[0m \u001b[0;34m=\u001b[0m \u001b[0mtrees\u001b[0m\u001b[0;34m\u001b[0m\u001b[0;34m\u001b[0m\u001b[0m\n\u001b[1;32m    755\u001b[0m \u001b[0;34m\u001b[0m\u001b[0m\n\u001b[0;32m--> 756\u001b[0;31m         \u001b[0mself\u001b[0m\u001b[0;34m.\u001b[0m\u001b[0m_top\u001b[0m \u001b[0;34m=\u001b[0m \u001b[0mTk\u001b[0m\u001b[0;34m(\u001b[0m\u001b[0;34m)\u001b[0m\u001b[0;34m\u001b[0m\u001b[0;34m\u001b[0m\u001b[0m\n\u001b[0m\u001b[1;32m    757\u001b[0m         \u001b[0mself\u001b[0m\u001b[0;34m.\u001b[0m\u001b[0m_top\u001b[0m\u001b[0;34m.\u001b[0m\u001b[0mtitle\u001b[0m\u001b[0;34m(\u001b[0m\u001b[0;34m'NLTK'\u001b[0m\u001b[0;34m)\u001b[0m\u001b[0;34m\u001b[0m\u001b[0;34m\u001b[0m\u001b[0m\n\u001b[1;32m    758\u001b[0m         \u001b[0mself\u001b[0m\u001b[0;34m.\u001b[0m\u001b[0m_top\u001b[0m\u001b[0;34m.\u001b[0m\u001b[0mbind\u001b[0m\u001b[0;34m(\u001b[0m\u001b[0;34m'<Control-x>'\u001b[0m\u001b[0;34m,\u001b[0m \u001b[0mself\u001b[0m\u001b[0;34m.\u001b[0m\u001b[0mdestroy\u001b[0m\u001b[0;34m)\u001b[0m\u001b[0;34m\u001b[0m\u001b[0;34m\u001b[0m\u001b[0m\n",
            "\u001b[0;32m/usr/lib/python3.7/tkinter/__init__.py\u001b[0m in \u001b[0;36m__init__\u001b[0;34m(self, screenName, baseName, className, useTk, sync, use)\u001b[0m\n\u001b[1;32m   2021\u001b[0m                 \u001b[0mbaseName\u001b[0m \u001b[0;34m=\u001b[0m \u001b[0mbaseName\u001b[0m \u001b[0;34m+\u001b[0m \u001b[0mext\u001b[0m\u001b[0;34m\u001b[0m\u001b[0;34m\u001b[0m\u001b[0m\n\u001b[1;32m   2022\u001b[0m         \u001b[0minteractive\u001b[0m \u001b[0;34m=\u001b[0m \u001b[0;36m0\u001b[0m\u001b[0;34m\u001b[0m\u001b[0;34m\u001b[0m\u001b[0m\n\u001b[0;32m-> 2023\u001b[0;31m         \u001b[0mself\u001b[0m\u001b[0;34m.\u001b[0m\u001b[0mtk\u001b[0m \u001b[0;34m=\u001b[0m \u001b[0m_tkinter\u001b[0m\u001b[0;34m.\u001b[0m\u001b[0mcreate\u001b[0m\u001b[0;34m(\u001b[0m\u001b[0mscreenName\u001b[0m\u001b[0;34m,\u001b[0m \u001b[0mbaseName\u001b[0m\u001b[0;34m,\u001b[0m \u001b[0mclassName\u001b[0m\u001b[0;34m,\u001b[0m \u001b[0minteractive\u001b[0m\u001b[0;34m,\u001b[0m \u001b[0mwantobjects\u001b[0m\u001b[0;34m,\u001b[0m \u001b[0museTk\u001b[0m\u001b[0;34m,\u001b[0m \u001b[0msync\u001b[0m\u001b[0;34m,\u001b[0m \u001b[0muse\u001b[0m\u001b[0;34m)\u001b[0m\u001b[0;34m\u001b[0m\u001b[0;34m\u001b[0m\u001b[0m\n\u001b[0m\u001b[1;32m   2024\u001b[0m         \u001b[0;32mif\u001b[0m \u001b[0museTk\u001b[0m\u001b[0;34m:\u001b[0m\u001b[0;34m\u001b[0m\u001b[0;34m\u001b[0m\u001b[0m\n\u001b[1;32m   2025\u001b[0m             \u001b[0mself\u001b[0m\u001b[0;34m.\u001b[0m\u001b[0m_loadtk\u001b[0m\u001b[0;34m(\u001b[0m\u001b[0;34m)\u001b[0m\u001b[0;34m\u001b[0m\u001b[0;34m\u001b[0m\u001b[0m\n",
            "\u001b[0;31mTclError\u001b[0m: no display name and no $DISPLAY environment variable"
          ]
        }
      ]
    },
    {
      "cell_type": "markdown",
      "metadata": {
        "id": "aXcq1PiS4V0k"
      },
      "source": [
        "Here I was using online Colab for running the codes that cause some errors while drawing the tree. So, I'm using the following image to show you how the output actually looks like.\n",
        " \n",
        "\n",
        "![image.png](data:image/png;base64,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)\n",
        "\n",
        "\n",
        "[Image Source](https://www.nltk.org/_images/tree.gif)"
      ]
    },
    {
      "cell_type": "markdown",
      "metadata": {
        "id": "VvY5c6rVxIMw"
      },
      "source": [
        "# References\n",
        "[[1]](https://www.nltk.org/) The Natural Language Toolkit. https://www.nltk.org/\n",
        "\n",
        "[[2]](https://www.nltk.org/) Bird, Steven, Edward Loper and Ewan Klein (2009), Natural Language Processing with Python. O’Reilly Media Inc."
      ]
    }
  ]
}