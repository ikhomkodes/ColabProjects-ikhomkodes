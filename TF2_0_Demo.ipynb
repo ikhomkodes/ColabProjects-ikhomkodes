{
  "nbformat": 4,
  "nbformat_minor": 0,
  "metadata": {
    "colab": {
      "name": "TF2.0 Demo.ipynb",
      "provenance": [],
      "authorship_tag": "ABX9TyNmA0uOzwfPxSYTHGpCzRD+",
      "include_colab_link": true
    },
    "kernelspec": {
      "name": "python3",
      "display_name": "Python 3"
    },
    "language_info": {
      "name": "python"
    },
    "accelerator": "GPU"
  },
  "cells": [
    {
      "cell_type": "markdown",
      "metadata": {
        "id": "view-in-github",
        "colab_type": "text"
      },
      "source": [
        "<a href=\"https://colab.research.google.com/github/ikhomkodes/ColabProjects-ikhomkodes/blob/main/TF2_0_Demo.ipynb\" target=\"_parent\"><img src=\"https://colab.research.google.com/assets/colab-badge.svg\" alt=\"Open In Colab\"/></a>"
      ]
    },
    {
      "cell_type": "code",
      "metadata": {
        "colab": {
          "base_uri": "https://localhost:8080/"
        },
        "id": "Up7wtplQpfly",
        "outputId": "e1013c14-b80d-42b8-e6bc-7254bdcf1448"
      },
      "source": [
        "# ususal stuffs such as:\n",
        "import sklearn\n",
        "print(sklearn.__version__)\n",
        "import numpy\n",
        "print(numpy.__version__)\n",
        "import scipy\n",
        "print(scipy.__version__)\n",
        "import matplotlib\n",
        "print(matplotlib.__version__)\n",
        "import pandas\n",
        "print(pandas.__version__)\n",
        "\n",
        "# competing deep learning libraries and development for theano has stopped for a while now\n",
        "import torch\n",
        "print(torch.__version__)\n",
        "import theano\n",
        "print(theano.__version__)\n",
        "\n",
        "# also we have seaborn, wordcloud & beautifulsoup which is for xml and html parsing\n",
        "import seaborn\n",
        "print(seaborn.__version__)\n",
        "import wordcloud\n",
        "print(wordcloud.__version__)\n",
        "import bs4\n",
        "print(bs4.__version__)\n",
        "\n",
        "# requests is for making HTTP calls\n",
        "import requests\n",
        "print(requests.__version__)\n",
        "\n",
        "# networkx for graph functionality\n",
        "import networkx\n",
        "print(networkx.__version__)\n",
        "\n",
        "# cv2 is for OpenCV\n",
        "import cv2\n",
        "print(cv2.__version__)\n",
        "\n",
        "# gym is an OpenAI gym: Gym is a toolkit for developing and comparing reinforcement learning algorithms.\n",
        "import gym\n",
        "print(gym.__version__)"
      ],
      "execution_count": 3,
      "outputs": [
        {
          "output_type": "stream",
          "text": [
            "0.22.2.post1\n",
            "1.19.5\n",
            "1.4.1\n",
            "3.2.2\n",
            "1.1.5\n",
            "1.8.1+cu101\n",
            "1.1.2\n",
            "0.11.1\n",
            "1.5.0\n",
            "4.6.3\n",
            "2.23.0\n",
            "2.5.1\n",
            "4.1.2\n",
            "0.17.3\n"
          ],
          "name": "stdout"
        }
      ]
    }
  ]
}